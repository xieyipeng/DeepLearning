{
 "cells": [
  {
   "cell_type": "markdown",
   "id": "residential-elephant",
   "metadata": {},
   "source": [
    "# 1.1 生成Numpy数组\n",
    "\n",
    "* 从已有数据生成"
   ]
  },
  {
   "cell_type": "code",
   "execution_count": 2,
   "id": "sitting-excerpt",
   "metadata": {},
   "outputs": [
    {
     "name": "stdout",
     "output_type": "stream",
     "text": [
      "[1 2 3 4]\n",
      "<class 'numpy.ndarray'>\n"
     ]
    }
   ],
   "source": [
    "import numpy as np\n",
    "\n",
    "# 列表转换成ndarray:\n",
    "lst1 = [1,2,3,4]\n",
    "nd1 = np.array(lst1)\n",
    "\n",
    "print(nd1)\n",
    "print(type(nd1))"
   ]
  },
  {
   "cell_type": "code",
   "execution_count": 3,
   "id": "controlled-aurora",
   "metadata": {},
   "outputs": [
    {
     "name": "stdout",
     "output_type": "stream",
     "text": [
      "[[3.14 2.17 0.   1.   2.  ]\n",
      " [1.   2.   3.   4.   5.  ]]\n",
      "<class 'numpy.ndarray'>\n"
     ]
    }
   ],
   "source": [
    "# 嵌套列表可以转换成多维ndarray：\n",
    "lst2 = [[3.14, 2.17, 0, 1, 2], [1, 2, 3, 4, 5]]\n",
    "\n",
    "nd2 = np.array(lst2)\n",
    "\n",
    "print(nd2)\n",
    "print(type(nd2))"
   ]
  },
  {
   "cell_type": "markdown",
   "id": "united-montgomery",
   "metadata": {},
   "source": [
    "* 使用numpy模块生成numpy数组\n",
    "\n",
    "<img src=\"Screenshot from 2021-02-21 14-23-40.png\">"
   ]
  },
  {
   "cell_type": "code",
   "execution_count": 7,
   "id": "sexual-weather",
   "metadata": {},
   "outputs": [
    {
     "name": "stdout",
     "output_type": "stream",
     "text": [
      "[[0.34601926 0.76659052 0.67391318]\n",
      " [0.44137326 0.42160211 0.35862429]\n",
      " [0.01046353 0.31657078 0.49442139]]\n",
      "(3, 3)\n"
     ]
    }
   ],
   "source": [
    "# 具体使用：\n",
    "\n",
    "nd3 = np.random.random([3,3])\n",
    "print(nd3)\n",
    "print(nd3.shape)"
   ]
  },
  {
   "cell_type": "code",
   "execution_count": 8,
   "id": "shared-belfast",
   "metadata": {},
   "outputs": [
    {
     "name": "stdout",
     "output_type": "stream",
     "text": [
      "[[-1.0856306   0.99734545  0.2829785 ]\n",
      " [-1.50629471 -0.57860025  1.65143654]]\n",
      "打乱后：\n",
      "[[-1.50629471 -0.57860025  1.65143654]\n",
      " [-1.0856306   0.99734545  0.2829785 ]]\n",
      "<class 'numpy.ndarray'>\n"
     ]
    }
   ],
   "source": [
    "# 为了每次生成同一份数据，可以指定一个随机种子:\n",
    "# 用shuffle函数打乱生成的随机数\n",
    "\n",
    "np.random.seed(123)\n",
    "nd4 = np.random.randn(2,3)\n",
    "print(nd4)\n",
    "\n",
    "np.random.shuffle(nd4)\n",
    "print(\"打乱后：\")\n",
    "print(nd4)\n",
    "print(type(nd4))"
   ]
  },
  {
   "cell_type": "markdown",
   "id": "material-stocks",
   "metadata": {},
   "source": [
    "* 创建特定形状的多维数组\n",
    "\n",
    "<img src=\"Screenshot from 2021-02-21 14-35-52.png\">"
   ]
  },
  {
   "cell_type": "code",
   "execution_count": 10,
   "id": "handy-offset",
   "metadata": {},
   "outputs": [
    {
     "name": "stdout",
     "output_type": "stream",
     "text": [
      "[[0. 0. 0.]\n",
      " [0. 0. 0.]\n",
      " [0. 0. 0.]]\n",
      "[[1. 1. 1.]\n",
      " [1. 1. 1.]\n",
      " [1. 1. 1.]]\n",
      "[[1. 0. 0.]\n",
      " [0. 1. 0.]\n",
      " [0. 0. 1.]]\n",
      "[[1 0 0]\n",
      " [0 2 0]\n",
      " [0 0 3]]\n"
     ]
    }
   ],
   "source": [
    "# 生成全是 0 的 3x3 矩阵\n",
    "nd5 =np.zeros([3, 3])\n",
    "\n",
    "# 生成与nd5形状一样的全0矩阵\n",
    "np.zeros_like(nd5)\n",
    "\n",
    "# 生成全是 1 的 3x3 矩阵\n",
    "nd6 = np.ones([3, 3])\n",
    "\n",
    "# 生成 3 阶的单位矩阵\n",
    "nd7 = np.eye(3)\n",
    "\n",
    "# 生成 3 阶对角矩阵\n",
    "nd8 = np.diag([1, 2, 3])\n",
    "\n",
    "print(nd5)\n",
    "print(nd6)\n",
    "print(nd7)\n",
    "print(nd8)"
   ]
  },
  {
   "cell_type": "code",
   "execution_count": 11,
   "id": "common-sandwich",
   "metadata": {},
   "outputs": [
    {
     "name": "stdout",
     "output_type": "stream",
     "text": [
      "[[0.41092437 0.5796943  0.13995076 0.40101756 0.62731701]\n",
      " [0.32415089 0.24475928 0.69475518 0.5939024  0.63179202]\n",
      " [0.44025718 0.08372648 0.71233018 0.42786349 0.2977805 ]\n",
      " [0.49208478 0.74029639 0.35772892 0.41720995 0.65472131]\n",
      " [0.37380143 0.23451288 0.98799529 0.76599595 0.77700444]]\n"
     ]
    }
   ],
   "source": [
    "# 把生成的数据暂时保存起来\n",
    "\n",
    "nd9 =np.random.random([5, 5])\n",
    "np.savetxt(X=nd9, fname='./test1.txt')\n",
    "nd10 = np.loadtxt('./test1.txt')\n",
    "print(nd10)"
   ]
  },
  {
   "cell_type": "markdown",
   "id": "driven-jimmy",
   "metadata": {},
   "source": [
    "* 利用arange、linspace函数生成数组"
   ]
  },
  {
   "cell_type": "code",
   "execution_count": 13,
   "id": "abroad-reducing",
   "metadata": {},
   "outputs": [
    {
     "name": "stdout",
     "output_type": "stream",
     "text": [
      "[0 1 2 3 4 5 6 7 8 9]\n",
      "[0 1 2 3 4 5 6 7 8 9]\n",
      "[1.  1.5 2.  2.5 3.  3.5]\n",
      "[9 8 7 6 5 4 3 2 1 0]\n"
     ]
    }
   ],
   "source": [
    "# np.arange([start,] stop[,step,], dtype=None)\n",
    "# 其中start与stop用来指定范围，step用来设定步长。在生成一个ndarray时，start默认为0，步长step可为小数。\n",
    "print(np.arange(10))\n",
    "\n",
    "print(np.arange(0, 10))\n",
    "\n",
    "print(np.arange(1, 4, 0.5))\n",
    "\n",
    "print(np.arange(9, -1, -1))"
   ]
  },
  {
   "cell_type": "code",
   "execution_count": 15,
   "id": "numerical-action",
   "metadata": {},
   "outputs": [
    {
     "name": "stdout",
     "output_type": "stream",
     "text": [
      "[0.         0.11111111 0.22222222 0.33333333 0.44444444 0.55555556\n",
      " 0.66666667 0.77777778 0.88888889 1.        ]\n",
      "(array([0.        , 0.11111111, 0.22222222, 0.33333333, 0.44444444,\n",
      "       0.55555556, 0.66666667, 0.77777778, 0.88888889, 1.        ]), 0.1111111111111111)\n"
     ]
    }
   ],
   "source": [
    "# np.linspace(start, stop, num=50, endpoint=True, retstep=False, dtype=None)\n",
    "# linspace可以根据输入的指定数据范围以及等份数量，自动生成一个线性等分向量\n",
    "# 如果将retstep设置为True，则会返回一个带步长的ndarray\n",
    "\n",
    "print(np.linspace(0, 1, 10))\n",
    "\n",
    "print(np.linspace(0, 1, 10, retstep=True))"
   ]
  },
  {
   "cell_type": "markdown",
   "id": "current-border",
   "metadata": {},
   "source": [
    "# 1.2 获取元素\n",
    "\n",
    "* 获取数据的方法"
   ]
  },
  {
   "cell_type": "code",
   "execution_count": 35,
   "id": "covered-charge",
   "metadata": {},
   "outputs": [
    {
     "data": {
      "text/plain": [
       "array([0.4057498 , 0.90320616, 0.29917202, 0.6378774 , 0.39308051])"
      ]
     },
     "execution_count": 35,
     "metadata": {},
     "output_type": "execute_result"
    }
   ],
   "source": [
    "np.random.seed(2019)\n",
    "nd11 = np.random.random([10]) # 有没有方括号都一样，type = numpy.ndarray\n",
    "\n",
    "# 获取指定位置的数据，获取第4个元素\n",
    "nd11[3]\n",
    "\n",
    "# 截取一段数据\n",
    "nd11[3:6]\n",
    "\n",
    "# 截取固定间隔数据\n",
    "nd11[1:6:2]\n",
    "\n",
    "# 倒序取数\n",
    "nd11[::-2]"
   ]
  },
  {
   "cell_type": "code",
   "execution_count": 36,
   "id": "historic-knowing",
   "metadata": {},
   "outputs": [
    {
     "data": {
      "text/plain": [
       "array([[ 6,  7],\n",
       "       [11, 12]])"
      ]
     },
     "execution_count": 36,
     "metadata": {},
     "output_type": "execute_result"
    }
   ],
   "source": [
    "# 1-2行，1-2列\n",
    "nd12 = np.arange(25).reshape([5,5])\n",
    "nd12[1:3,1:3]\n",
    "\n",
    "# 截取一个多维数组中，数值在一个值域之内的数据\n",
    "# nd12[(nd12>3)&(nd12<10)]\n",
    "\n",
    "# 1-2行\n",
    "# nd12[[1,2]] #或nd12[1:3,:]\n",
    "\n",
    "# 所有行的1-3列\n",
    "# nd12[:,1:3]"
   ]
  },
  {
   "cell_type": "code",
   "execution_count": 38,
   "id": "healthy-bachelor",
   "metadata": {},
   "outputs": [
    {
     "name": "stdout",
     "output_type": "stream",
     "text": [
      "随机可重复抽取\n",
      "[[16. 15. 18. 18.]\n",
      " [14. 18. 18. 14.]\n",
      " [23. 16. 13.  3.]]\n",
      "随机但不重复抽取\n",
      "[[ 6. 14.  7.  4.]\n",
      " [19.  2.  3. 16.]\n",
      " [12. 10.  9. 20.]]\n",
      "随机但按制度概率抽取\n",
      "[[24. 15. 23. 16.]\n",
      " [ 9.  9. 17. 19.]\n",
      " [23. 13. 12. 17.]]\n"
     ]
    }
   ],
   "source": [
    "# 通过random.choice函数从指定的样本中随机抽取数据\n",
    "\n",
    "from numpy import random as nr\n",
    "\n",
    "a = np.arange(1,25,dtype=float)\n",
    "c1 = nr.choice(a,size=(3,4)) #size指定输出数组形状\n",
    "c2 = nr.choice(a,size=(3,4),replace=False) #replace缺省为True，即可重复抽取。\n",
    "#下式中参数p指定每个元素对应的抽取概率，缺省为每个元素被抽取的概率相同。\n",
    "c3 = nr.choice(a,size=(3,4),p=a / np.sum(a))\n",
    "print(\"随机可重复抽取\")\n",
    "print(c1)\n",
    "print(\"随机但不重复抽取\")\n",
    "print(c2)\n",
    "print(\"随机但按制度概率抽取\")\n",
    "print(c3)"
   ]
  },
  {
   "cell_type": "markdown",
   "id": "signed-amendment",
   "metadata": {},
   "source": [
    "# 1.3 Numpy的算术运算\n",
    "\n",
    "* 逐元乘法（Element-Wise Product），运算符为np.multiply(),或*"
   ]
  },
  {
   "cell_type": "code",
   "execution_count": 39,
   "id": "unnecessary-selection",
   "metadata": {},
   "outputs": [
    {
     "data": {
      "text/plain": [
       "array([[ 2,  0],\n",
       "       [-3, 16]])"
      ]
     },
     "execution_count": 39,
     "metadata": {},
     "output_type": "execute_result"
    }
   ],
   "source": [
    "# np.numpy.multiply(x1, x2, /, out=None, *, where=True,casting='same_kind', order='K', dtype=None,\n",
    "#     numpy.multiply(x1, x2, /, out=None, *, where=True,casting='same_kind', order='K', \n",
    "#     dtype=None, subok=True[, signature, extobj])\n",
    "# \n",
    "# np.multiply函数用于数组或矩阵对应元素相乘，输出与相乘数组或矩阵的大小一致\n",
    "\n",
    "# eg:\n",
    "\n",
    "A = np.array([[1, 2], [-1, 4]])\n",
    "B = np.array([[2, 0], [3, 4]])\n",
    "A*B"
   ]
  },
  {
   "cell_type": "code",
   "execution_count": 40,
   "id": "buried-first",
   "metadata": {},
   "outputs": [
    {
     "name": "stdout",
     "output_type": "stream",
     "text": [
      "[[ 2.  4.]\n",
      " [-2.  8.]]\n",
      "[[ 0.5  1. ]\n",
      " [-0.5  2. ]]\n"
     ]
    }
   ],
   "source": [
    "# 还可以和单一数值（或称为标量）进行运算。\n",
    "print(A*2.0)\n",
    "print(A/2.0)"
   ]
  },
  {
   "cell_type": "code",
   "execution_count": 41,
   "id": "cubic-alfred",
   "metadata": {},
   "outputs": [
    {
     "name": "stdout",
     "output_type": "stream",
     "text": [
      "输入参数X的形状： (2, 3)\n",
      "激活函数softmoid输出形状： (2, 3)\n",
      "激活函数relu输出形状： (2, 3)\n",
      "激活函数softmax输出形状： (2, 3)\n"
     ]
    }
   ],
   "source": [
    "# 推而广之，数组通过一些激活函数后，输出与输入形状一致\n",
    "\n",
    "X = np.random.rand(2,3)\n",
    "\n",
    "def softmoid(x):\n",
    "    return 1/(1+np.exp(-x))\n",
    "\n",
    "def relu(x):\n",
    "    return np.maximum(0,x)\n",
    "\n",
    "def softmax(x):\n",
    "    return np.exp(x)/np.sum(np.exp(x))\n",
    "\n",
    "print(\"输入参数X的形状：\",X.shape)\n",
    "print(\"激活函数softmoid输出形状：\",softmoid(X).shape)\n",
    "print(\"激活函数relu输出形状：\",relu(X).shape)\n",
    "print(\"激活函数softmax输出形状：\",softmax(X).shape)"
   ]
  },
  {
   "cell_type": "markdown",
   "id": "sunrise-photography",
   "metadata": {},
   "source": [
    "* 点积或内积元素，运算符为np.dot()"
   ]
  },
  {
   "cell_type": "code",
   "execution_count": 42,
   "id": "institutional-danger",
   "metadata": {},
   "outputs": [
    {
     "name": "stdout",
     "output_type": "stream",
     "text": [
      "[[21 24 27]\n",
      " [47 54 61]]\n"
     ]
    }
   ],
   "source": [
    "# numpy.dot(a, b, out=None)\n",
    "\n",
    "X1 = np.array([[1,2],[3,4]])\n",
    "X2 = np.array([[5,6,7],[8,9,10]])\n",
    "X3 = np.dot(X1,X2)\n",
    "\n",
    "print(X3)"
   ]
  },
  {
   "cell_type": "markdown",
   "id": "greater-behavior",
   "metadata": {},
   "source": [
    "# 1.4 数组变形\n",
    "\n",
    "* 更改数组的形状"
   ]
  },
  {
   "cell_type": "code",
   "execution_count": 48,
   "id": "suffering-maker",
   "metadata": {},
   "outputs": [
    {
     "name": "stdout",
     "output_type": "stream",
     "text": [
      "[0 1 2 3 4 5 6 7 8 9]\n",
      "[[0 1 2 3 4]\n",
      " [5 6 7 8 9]]\n",
      "[[0 1]\n",
      " [2 3]\n",
      " [4 5]\n",
      " [6 7]\n",
      " [8 9]]\n",
      "[[0 1 2 3 4]\n",
      " [5 6 7 8 9]]\n"
     ]
    }
   ],
   "source": [
    "# reshape\n",
    "\n",
    "arr = np.arange(10)\n",
    "print(arr)\n",
    "\n",
    "# 将向量 arr 维度变换为2行5列\n",
    "print(arr.reshape(2, 5))\n",
    "\n",
    "# 指定维度时可以只指定行数或列数, 其他用 -1 代替\n",
    "print(arr.reshape(5, -1))\n",
    "print(arr.reshape(-1, 5))"
   ]
  },
  {
   "cell_type": "code",
   "execution_count": 46,
   "id": "underlying-recognition",
   "metadata": {},
   "outputs": [
    {
     "name": "stdout",
     "output_type": "stream",
     "text": [
      "[0 1 2 3 4 5 6 7 8 9]\n",
      "[[0 1 2 3 4]\n",
      " [5 6 7 8 9]]\n"
     ]
    }
   ],
   "source": [
    "# resize，与reshape有点值传递和址传递的意思\n",
    "\n",
    "arr =np.arange(10)\n",
    "print(arr)\n",
    "\n",
    "# 将向量 arr 维度变换为2行5列\n",
    "arr.resize(2, 5)\n",
    "print(arr)"
   ]
  },
  {
   "cell_type": "code",
   "execution_count": 49,
   "id": "premium-torture",
   "metadata": {},
   "outputs": [
    {
     "name": "stdout",
     "output_type": "stream",
     "text": [
      "[[ 0  1  2  3]\n",
      " [ 4  5  6  7]\n",
      " [ 8  9 10 11]]\n",
      "[[ 0  4  8]\n",
      " [ 1  5  9]\n",
      " [ 2  6 10]\n",
      " [ 3  7 11]]\n"
     ]
    }
   ],
   "source": [
    "# T\n",
    "arr = np.arange(12).reshape(3,4)\n",
    "\n",
    "# 向量 arr 为3行4列\n",
    "print(arr)\n",
    "\n",
    "# 将向量 arr 进行转置为4行3列\n",
    "print(arr.T)"
   ]
  },
  {
   "cell_type": "code",
   "execution_count": 50,
   "id": "dense-intersection",
   "metadata": {},
   "outputs": [
    {
     "name": "stdout",
     "output_type": "stream",
     "text": [
      "[[0 1 2]\n",
      " [3 4 5]]\n",
      "按照列优先，展平\n",
      "[0 3 1 4 2 5]\n",
      "按照行优先，展平\n",
      "[0 1 2 3 4 5]\n"
     ]
    }
   ],
   "source": [
    "# ravel，向量展平\n",
    "\n",
    "arr =np.arange(6).reshape(2, -1)\n",
    "print(arr)\n",
    "\n",
    "print(\"按照列优先，展平\")\n",
    "print(arr.ravel('F'))\n",
    "\n",
    "print(\"按照行优先，展平\")\n",
    "print(arr.ravel())"
   ]
  },
  {
   "cell_type": "code",
   "execution_count": 51,
   "id": "circular-colony",
   "metadata": {},
   "outputs": [
    {
     "name": "stdout",
     "output_type": "stream",
     "text": [
      "[[4. 4. 3. 3.]\n",
      " [2. 3. 5. 1.]\n",
      " [7. 5. 1. 9.]]\n",
      "[4. 4. 3. 3. 2. 3. 5. 1. 7. 5. 1. 9.]\n"
     ]
    }
   ],
   "source": [
    "# flatten，把矩阵转换为向量，这种需求经常出现在卷积网络与全连接层之间\n",
    "\n",
    "a = np.floor(10*np.random.random((3,4)))  # np.floor()：返回不大于输入参数的最大整数（向下取整）\n",
    "print(a)\n",
    "print(a.flatten())"
   ]
  },
  {
   "cell_type": "code",
   "execution_count": 53,
   "id": "bridal-sodium",
   "metadata": {},
   "outputs": [
    {
     "name": "stdout",
     "output_type": "stream",
     "text": [
      "(3, 1)\n",
      "[0 1 2]\n",
      "(3,)\n",
      "(3, 1, 2, 1)\n",
      "[[0 1]\n",
      " [2 3]\n",
      " [4 5]]\n",
      "(3, 2)\n"
     ]
    }
   ],
   "source": [
    "# squeeze\n",
    "# 这是一个主要用来降维的函数，把矩阵中含1的维度去掉。在PyTorch中还有一种与之相反的操作——torch.unsqueeze\n",
    "\n",
    "arr = np.arange(3).reshape(3, 1)\n",
    "\n",
    "print(arr.shape) #(3,1)\n",
    "print(arr.squeeze())\n",
    "print(arr.squeeze().shape) #(3,)\n",
    "\n",
    "arr1 =np.arange(6).reshape(3,1,2,1)\n",
    "\n",
    "print(arr1.shape) #(3, 1, 2, 1)\n",
    "print(arr1.squeeze())\n",
    "print(arr1.squeeze().shape) #(3, 2)"
   ]
  },
  {
   "cell_type": "code",
   "execution_count": 54,
   "id": "united-spank",
   "metadata": {},
   "outputs": [
    {
     "name": "stdout",
     "output_type": "stream",
     "text": [
      "(2, 3, 4)\n",
      "(3, 4, 2)\n"
     ]
    }
   ],
   "source": [
    "# transpose \n",
    "# 对高维矩阵进行轴对换，这个在深度学习中经常使用，比如把图片中表示颜色顺序的RGB改为GBR\n",
    "\n",
    "arr2 = np.arange(24).reshape(2,3,4)\n",
    "print(arr2.shape) #(2, 3, 4)\n",
    "print(arr2.transpose(1,2,0).shape) #(3, 4, 2)"
   ]
  },
  {
   "cell_type": "markdown",
   "id": "respective-killing",
   "metadata": {},
   "source": [
    "* 合并数组"
   ]
  },
  {
   "cell_type": "code",
   "execution_count": 55,
   "id": "operational-accident",
   "metadata": {},
   "outputs": [
    {
     "name": "stdout",
     "output_type": "stream",
     "text": [
      "[1 2 3 4 5 6]\n"
     ]
    }
   ],
   "source": [
    "# append:\n",
    "\n",
    "a = np.array([1, 2, 3])\n",
    "b = np.array([4, 5, 6])\n",
    "c = np.append(a, b)\n",
    "print(c)"
   ]
  },
  {
   "cell_type": "code",
   "execution_count": 56,
   "id": "signed-breast",
   "metadata": {},
   "outputs": [
    {
     "name": "stdout",
     "output_type": "stream",
     "text": [
      "按行合并后的结果\n",
      "[[0 1]\n",
      " [2 3]\n",
      " [0 1]\n",
      " [2 3]]\n",
      "合并后数据维度 (4, 2)\n",
      "按列合并后的结果\n",
      "[[0 1 0 1]\n",
      " [2 3 2 3]]\n",
      "合并后数据维度 (2, 4)\n"
     ]
    }
   ],
   "source": [
    "# 合并多维数组\n",
    "\n",
    "a = np.arange(4).reshape(2, 2)\n",
    "b = np.arange(4).reshape(2, 2)\n",
    "# 按行合并\n",
    "c = np.append(a, b, axis=0)\n",
    "print('按行合并后的结果')\n",
    "print(c)\n",
    "print('合并后数据维度', c.shape)\n",
    "# 按列合并\n",
    "d = np.append(a, b, axis=1)\n",
    "print('按列合并后的结果')\n",
    "print(d)\n",
    "print('合并后数据维度', d.shape)"
   ]
  },
  {
   "cell_type": "code",
   "execution_count": 57,
   "id": "desirable-publication",
   "metadata": {},
   "outputs": [
    {
     "name": "stdout",
     "output_type": "stream",
     "text": [
      "[[1 2]\n",
      " [3 4]\n",
      " [5 6]]\n",
      "[[1 2 5]\n",
      " [3 4 6]]\n"
     ]
    }
   ],
   "source": [
    "# concatenate 沿指定轴连接数组或矩阵\n",
    "\n",
    "a = np.array([[1, 2], [3, 4]])\n",
    "b = np.array([[5, 6]])\n",
    "c = np.concatenate((a, b), axis=0)\n",
    "print(c)\n",
    "d = np.concatenate((a, b.T), axis=1)\n",
    "print(d)"
   ]
  },
  {
   "cell_type": "code",
   "execution_count": 58,
   "id": "tropical-helena",
   "metadata": {},
   "outputs": [
    {
     "name": "stdout",
     "output_type": "stream",
     "text": [
      "[[[1 2]\n",
      "  [3 4]]\n",
      "\n",
      " [[5 6]\n",
      "  [7 8]]]\n"
     ]
    }
   ],
   "source": [
    "# stack 沿指定轴堆叠数组或矩阵：\n",
    "\n",
    "a = np.array([[1, 2], [3, 4]])\n",
    "b = np.array([[5, 6], [7, 8]])\n",
    "print(np.stack((a, b), axis=0))"
   ]
  },
  {
   "cell_type": "markdown",
   "id": "precise-shelf",
   "metadata": {},
   "source": [
    "# 1.5 批量处理\n",
    "\n",
    "* 具体说明："
   ]
  },
  {
   "cell_type": "code",
   "execution_count": 64,
   "id": "advised-newman",
   "metadata": {},
   "outputs": [
    {
     "name": "stdout",
     "output_type": "stream",
     "text": [
      "(1000, 2, 3)\n",
      "第0批次,该批次的数据之和:6.83501600459611\n",
      "第100批次,该批次的数据之和:-9.918939370974012\n",
      "第200批次,该批次的数据之和:12.0326639852646\n",
      "第300批次,该批次的数据之和:36.72025627957187\n",
      "第400批次,该批次的数据之和:44.556853139055605\n",
      "第500批次,该批次的数据之和:3.234897254003087\n",
      "第600批次,该批次的数据之和:-21.881643929897283\n",
      "第700批次,该批次的数据之和:-1.1216447537466063\n",
      "第800批次,该批次的数据之和:35.14795636932108\n",
      "第900批次,该批次的数据之和:35.033121418402914\n"
     ]
    }
   ],
   "source": [
    "# ndarray 是 np.array这个方法来创建的一个对象\n",
    "\n",
    "data_train = np.random.randn(1000,2,3)  # 正态\n",
    "print(data_train.shape)\n",
    "np.random.shuffle(data_train)\n",
    "\n",
    "# 定义批量大小\n",
    "batch_size = 100\n",
    "\n",
    "# 进行批处理，每次处理batch_size个数据\n",
    "for i in range(0, len(data_train), batch_size):\n",
    "    x_batch_sum = np.sum(data_train[i:i+batch_size])\n",
    "    print(\"第{}批次,该批次的数据之和:{}\".format(i,x_batch_sum))"
   ]
  },
  {
   "cell_type": "markdown",
   "id": "included-peace",
   "metadata": {},
   "source": [
    "# 1.6 通用函数\n",
    "\n",
    "* 通用函数（ufunc）\n",
    "\n",
    "<img src=\"Screenshot from 2021-02-21 16-25-31.png\">\n",
    "\n",
    "* math与numpy函数的性能比较"
   ]
  },
  {
   "cell_type": "code",
   "execution_count": 66,
   "id": "equipped-compact",
   "metadata": {},
   "outputs": [
    {
     "name": "stdout",
     "output_type": "stream",
     "text": [
      "math.sin: 0.25726899999999997\n",
      "numpy.sin: 0.013270999999999589\n"
     ]
    }
   ],
   "source": [
    "import time\n",
    "import math\n",
    "\n",
    "x = [i * 0.001 for i in np.arange(1000000)]\n",
    "start = time.clock()\n",
    "for i, t in enumerate(x):\n",
    "    x[i] = math.sin(t)\n",
    "print (\"math.sin:\", time.clock() - start )\n",
    "x = [i * 0.001 for i in np.arange(1000000)]\n",
    "x = np.array(x)\n",
    "start = time.clock()\n",
    "np.sin(x)\n",
    "print (\"numpy.sin:\", time.clock() - start )"
   ]
  },
  {
   "cell_type": "markdown",
   "id": "opposite-orange",
   "metadata": {},
   "source": [
    "* 循环与向量运算比较"
   ]
  },
  {
   "cell_type": "code",
   "execution_count": 68,
   "id": "difficult-ranch",
   "metadata": {},
   "outputs": [
    {
     "name": "stdout",
     "output_type": "stream",
     "text": [
      "dot = 250425.88914897712\n",
      " for loop----- Computation time = 569.8321479999997ms\n",
      "dot = 250425.88914898314\n",
      " verctor version---- Computation time = 9.922981000000775\n"
     ]
    }
   ],
   "source": [
    "x1 = np.random.rand(1000000)\n",
    "x2 = np.random.rand(1000000)\n",
    "\n",
    "## 使用循环计算向量点积\n",
    "tic = time.process_time()\n",
    "dot = 0\n",
    "for i in range(len(x1)):\n",
    "    dot += x1[i]*x2[i]\n",
    "toc = time.process_time()\n",
    "print (\"dot = \" + str(dot) + \"\\n for loop----- Computation time = \" + str(1000*(toc - tic)) + \"ms\")\n",
    "\n",
    "## 使用numpy函数求点积\n",
    "tic = time.process_time()\n",
    "dot = 0\n",
    "dot = np.dot(x1,x2)\n",
    "toc = time.process_time()\n",
    "print (\"dot = \" + str(dot) + \"\\n verctor version---- Computation time = \" + str(1000*(toc - tic)))"
   ]
  },
  {
   "cell_type": "markdown",
   "id": "assisted-afternoon",
   "metadata": {},
   "source": [
    "# 1.7 广播机制\n",
    "\n",
    "1）让所有输入数组都向其中shape最长的数组看齐，不足的部分则通过\n",
    "在前面加1补齐，如：\n",
    "\n",
    "a：2×3×2\n",
    "\n",
    "b：3×2\n",
    "\n",
    "则b向a看齐，在b的前面加1，变为：1×3×2\n",
    "\n",
    "2）输出数组的shape是输入数组shape的各个轴上的最大值；\n",
    "\n",
    "3）如果输入数组的某个轴和输出数组的对应轴的长度相同或者某个轴的长度为1时，这个数组能被用来计算，否则出错；\n",
    "\n",
    "4）当输入数组的某个轴的长度为1时，沿着此轴运算时都用（或复制）此轴上的第一组值。"
   ]
  },
  {
   "cell_type": "code",
   "execution_count": 70,
   "id": "little-pizza",
   "metadata": {},
   "outputs": [
    {
     "name": "stdout",
     "output_type": "stream",
     "text": [
      "A矩阵的形状:(4, 1),B矩阵的形状:(3,)\n",
      "C矩阵的形状:(4, 3)\n",
      "[[ 0  1  2]\n",
      " [10 11 12]\n",
      " [20 21 22]\n",
      " [30 31 32]]\n"
     ]
    }
   ],
   "source": [
    "# eg:\n",
    "\n",
    "A = np.arange(0, 40,10).reshape(4, 1)\n",
    "B = np.arange(0, 3)\n",
    "print(\"A矩阵的形状:{},B矩阵的形状:{}\".format(A.shape,B.shape))\n",
    "C=A+B\n",
    "print(\"C矩阵的形状:{}\".format(C.shape))\n",
    "print(C)"
   ]
  },
  {
   "cell_type": "code",
   "execution_count": null,
   "id": "velvet-toolbox",
   "metadata": {},
   "outputs": [],
   "source": []
  }
 ],
 "metadata": {
  "kernelspec": {
   "display_name": "Python 3",
   "language": "python",
   "name": "python3"
  },
  "language_info": {
   "codemirror_mode": {
    "name": "ipython",
    "version": 3
   },
   "file_extension": ".py",
   "mimetype": "text/x-python",
   "name": "python",
   "nbconvert_exporter": "python",
   "pygments_lexer": "ipython3",
   "version": "3.6.12"
  }
 },
 "nbformat": 4,
 "nbformat_minor": 5
}
