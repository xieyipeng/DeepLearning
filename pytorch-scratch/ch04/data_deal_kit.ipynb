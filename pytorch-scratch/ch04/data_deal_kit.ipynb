{
 "cells": [
  {
   "cell_type": "markdown",
   "id": "limited-confidentiality",
   "metadata": {},
   "source": [
    "# PyTorch数据处理工具箱\n",
    "\n",
    "## torch.utils.data\n",
    "\n",
    "* 1)Dataset:是一个抽象类,其他数据集需要继承这个类,并且覆写其中的两个方法(_getitem__、__len__)。\n",
    "\n",
    "* 2)DataLoader:定义一个新的迭代器,实现批量(batch)读取,打乱数据(shuffle)并提供并行加速等功能。\n",
    "\n",
    "* 3)random_split:把数据集随机拆分为给定长度的非重叠的新数据集。\n",
    "\n",
    "* 4)*sampler:多种采样函数。\n",
    "\n",
    "## torchvision\n",
    "\n",
    "* 1)datasets:提供常用的数据集加载,设计上都是继承自torch.utils.data.Dataset,主要包括MMIST、CIFAR10/100、ImageNet和COCO等。\n",
    "\n",
    "* 2)models:提供深度学习中各种经典的网络结构以及训练好的模型(如果选择pretrained=True),包括AlexNet、VGG系列、ResNet系列、Inception系列等。\n",
    "\n",
    "* 3)transforms:常用的数据预处理操作,主要包括对Tensor及PIL Image对象的操作。\n",
    "\n",
    "* 4)utils:含两个函数,一个是make_grid,它能将多张图片拼接在一个网格中;另一个是save_img,它能将Tensor保存成图片。\n"
   ]
  },
  {
   "cell_type": "markdown",
   "id": "hybrid-terrain",
   "metadata": {},
   "source": [
    "# 4.2 utils.data简介"
   ]
  },
  {
   "cell_type": "code",
   "execution_count": 6,
   "id": "fitted-treasurer",
   "metadata": {},
   "outputs": [],
   "source": [
    "import torch\n",
    "from torch.utils import data\n",
    "import numpy as np"
   ]
  },
  {
   "cell_type": "code",
   "execution_count": 7,
   "id": "stainless-decrease",
   "metadata": {},
   "outputs": [],
   "source": [
    "# 定义获取数据集的类\n",
    "\n",
    "class TestDataset(data.Dataset):\n",
    "    def __init__(self):\n",
    "        self.Data=np.asarray([[1,2],[3,4],[2,1],[3,4],[4,5]])\n",
    "        self.Label=np.asarray([0,1,0,1,2])\n",
    "    \n",
    "    def __getitem__(self,index):\n",
    "        txt=torch.from_numpy(self.Data[index])\n",
    "        label=torch.tensor(self.Label[index])\n",
    "        return txt,label\n",
    "    \n",
    "    def __len__(self):\n",
    "        return len(self.Data)"
   ]
  },
  {
   "cell_type": "code",
   "execution_count": 8,
   "id": "ranging-heating",
   "metadata": {},
   "outputs": [
    {
     "name": "stdout",
     "output_type": "stream",
     "text": [
      "(tensor([2, 1]), tensor(0))\n",
      "5\n"
     ]
    }
   ],
   "source": [
    "# 获取数据集中数据\n",
    "Test = TestDataset()\n",
    "\n",
    "print(Test[2])\n",
    "print(Test.__len__())"
   ]
  },
  {
   "cell_type": "markdown",
   "id": "trying-companion",
   "metadata": {},
   "source": [
    "* data.DataLoader\n",
    "\n",
    "data.DataLoader(\n",
    "\n",
    "dataset,\n",
    "\n",
    "batch_size=1,\n",
    "\n",
    "shuffle=False,\n",
    "\n",
    "sampler=None,\n",
    "\n",
    "batch_sampler=None,\n",
    "\n",
    "num_workers=0,\n",
    "\n",
    "collate_fn=<function default_collate at 0x7f108ee01620>,\n",
    "\n",
    "pin_memory=False,\n",
    "\n",
    "drop_last=False,\n",
    "\n",
    "timeout=0,\n",
    "\n",
    "worker_init_fn=None,\n",
    "\n",
    ")\n",
    "\n",
    "·dataset:加载的数据集。\n",
    "·batch_size:批大小。\n",
    "·shuffle:是否将数据打乱。\n",
    "·sampler:样本抽样。\n",
    "·num_workers:使用多进程加载的进程数,0代表不使用多进程。\n",
    "·collate_fn:如何将多个样本数据拼接成一个batch,一般使用默认的拼\n",
    "接方式即可。\n",
    "·pin_memory:是否将数据保存在pin memory区,pin memory中的数据\n",
    "转到GPU会快一些。\n",
    "·drop_last:dataset中的数据个数可能不是batch_size的整数倍,drop_last\n",
    "为True会将多出来不足一个batch的数据丢弃。"
   ]
  },
  {
   "cell_type": "code",
   "execution_count": null,
   "id": "vanilla-surgery",
   "metadata": {},
   "outputs": [],
   "source": [
    "# error!\n",
    "# test_loader=data.DataLoader(Test,batch_size=2,shuffle=False,num_workers=0)\n",
    "test_loader = data.DataLoader(Test,batch_size=2,shuffle=False,num_workers=0)\n",
    "for i,traindata in enumerate(test_loader):\n",
    "    print(f'i: {i}')\n",
    "    Data,Label=trainData\n",
    "    print(f'data:{Data}, Label:{Label}')"
   ]
  },
  {
   "cell_type": "markdown",
   "id": "express-headset",
   "metadata": {},
   "source": [
    "# 4.3 torchvision简介\n",
    "\n",
    "* 将重点介绍transforms及ImageFolder。\n",
    "\n",
    "## 4.3.1 transforms\n",
    "\n",
    "## 4.3.2 ImageFolder\n",
    "\n",
    "# 4.4 可视化工具\n",
    "\n",
    "## tensorboardX的更多内容,大家可参考其官"
   ]
  },
  {
   "cell_type": "code",
   "execution_count": null,
   "id": "provincial-question",
   "metadata": {},
   "outputs": [],
   "source": []
  }
 ],
 "metadata": {
  "kernelspec": {
   "display_name": "Python 3",
   "language": "python",
   "name": "python3"
  },
  "language_info": {
   "codemirror_mode": {
    "name": "ipython",
    "version": 3
   },
   "file_extension": ".py",
   "mimetype": "text/x-python",
   "name": "python",
   "nbconvert_exporter": "python",
   "pygments_lexer": "ipython3",
   "version": "3.6.2"
  }
 },
 "nbformat": 4,
 "nbformat_minor": 5
}
