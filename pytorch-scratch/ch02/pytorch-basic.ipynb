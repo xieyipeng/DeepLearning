{
 "cells": [
  {
   "cell_type": "markdown",
   "id": "dutch-window",
   "metadata": {},
   "source": [
    "# 2.1 为何选择PyTorch？\n",
    "\n",
    "PyTorch由4个主要的包组成：\n",
    "\n",
    "\n",
    "* torch：类似于Numpy的通用数组库，可将张量类型转换为torch.cuda.TensorFloat，并在GPU上进行计算。\n",
    "\n",
    "* torch.autograd：用于构建计算图形并自动获取梯度的包。\n",
    "\n",
    "* torch.nn：具有共享层和损失函数的神经网络库。\n",
    "\n",
    "* torch.optim：具有通用优化算法（如SGD、Adam等）的优化包\n",
    "\n",
    "# 2.2 安装"
   ]
  },
  {
   "cell_type": "code",
   "execution_count": 2,
   "id": "multiple-digest",
   "metadata": {},
   "outputs": [
    {
     "data": {
      "text/plain": [
       "'1.7.1'"
      ]
     },
     "execution_count": 2,
     "metadata": {},
     "output_type": "execute_result"
    }
   ],
   "source": [
    "# 验证torch安装是否成功\n",
    "\n",
    "import torch\n",
    "torch.__version__"
   ]
  },
  {
   "cell_type": "code",
   "execution_count": 4,
   "id": "british-replica",
   "metadata": {},
   "outputs": [
    {
     "name": "stdout",
     "output_type": "stream",
     "text": [
      "Support CUDA ?:  True\n",
      "tensor([10.], device='cuda:0')\n",
      "tensor([[ 2.3097,  0.7396,  0.4830],\n",
      "        [ 0.6227, -0.9433,  0.2236]], device='cuda:0')\n",
      "tensor([[12.3097, 10.7396, 10.4830],\n",
      "        [10.6227,  9.0567, 10.2236]], device='cuda:0')\n",
      "Support cudnn ?:  True\n"
     ]
    }
   ],
   "source": [
    "# 测试是否在使用GPU\n",
    "# 测试 CUDA\n",
    "\n",
    "print(\"Support CUDA ?: \", torch.cuda.is_available())\n",
    "x = torch.tensor([10.0])\n",
    "x = x.cuda()\n",
    "print(x)\n",
    "\n",
    "y = torch.randn(2, 3)\n",
    "y = y.cuda()\n",
    "print(y)\n",
    "\n",
    "z = x + y\n",
    "print(z)\n",
    "\n",
    "# 测试 CUDNN\n",
    "from torch.backends import cudnn\n",
    "\n",
    "print(\"Support cudnn ?: \",cudnn.is_acceptable(x))"
   ]
  },
  {
   "cell_type": "markdown",
   "id": "ordinary-helen",
   "metadata": {},
   "source": [
    "# 2.3 Jupyter Notebook环境配置\n",
    "\n",
    "# 2.4 Numpy与Tensor\n",
    "\n",
    "* 最大的区别就是Numpy会把ndarray放在CPU中进行加速运算，而由Torch产生的Tensor会放在GPU中进行加速运算（假设当前环境有GPU）\n",
    "\n",
    "## 2.4.1 Tensor概述"
   ]
  },
  {
   "cell_type": "code",
   "execution_count": 6,
   "id": "sustainable-prototype",
   "metadata": {},
   "outputs": [
    {
     "name": "stdout",
     "output_type": "stream",
     "text": [
      "tensor([4, 6])\n",
      "tensor([1, 2])\n",
      "tensor([4, 6])\n"
     ]
    }
   ],
   "source": [
    "# 不修改自身 eg:\n",
    "\n",
    "x = torch.tensor([1,2])\n",
    "y = torch.tensor([3,4])\n",
    "z = x.add(y)  # 不带下滑符，不修改数据本身\n",
    "print(z)\n",
    "print(x)\n",
    "x.add_(y)  # 带下滑符，修改数据本身\n",
    "print(x)"
   ]
  },
  {
   "cell_type": "markdown",
   "id": "vocational-standard",
   "metadata": {},
   "source": [
    "## 2.4.2 创建Tensor"
   ]
  },
  {
   "cell_type": "code",
   "execution_count": 7,
   "id": "governing-bulgaria",
   "metadata": {},
   "outputs": [
    {
     "name": "stdout",
     "output_type": "stream",
     "text": [
      "torch.Size([2, 3])\n",
      "torch.Size([2, 3])\n",
      "tensor([[-5.2810e-24,  4.5629e-41,  9.0200e-28],\n",
      "        [ 3.0932e-41,  4.4842e-44,  0.0000e+00]])\n"
     ]
    }
   ],
   "source": [
    "# eg:\n",
    "\n",
    "# 根据list数据生成Tensor\n",
    "torch.Tensor([1,2,3,4,5,6])\n",
    "\n",
    "# 根据指定形状生成Tensor\n",
    "torch.Tensor(2,3)\n",
    "\n",
    "# 根据给定的Tensor的形状\n",
    "t = torch.Tensor([[1,2,3],[4,5,6]])\n",
    "\n",
    "#查看Tensor的形状\n",
    "print(t.size())\n",
    "\n",
    "#shape与size()等价方式\n",
    "print(t.shape)\n",
    "\n",
    "#根据已有形状创建Tensor\n",
    "print(torch.Tensor(t.size()))"
   ]
  },
  {
   "cell_type": "code",
   "execution_count": 8,
   "id": "wooden-technique",
   "metadata": {},
   "outputs": [
    {
     "name": "stdout",
     "output_type": "stream",
     "text": [
      "t1的值tensor([-5.2810e-24]),t1的数据类型torch.FloatTensor\n",
      "t2的值1,t2的数据类型torch.LongTensor\n"
     ]
    }
   ],
   "source": [
    "# 注意torch.Tensor与torch.tensor的几点区别：\n",
    "\n",
    "t1 = torch.Tensor(1)\n",
    "t2 = torch.tensor(1)\n",
    "print(\"t1的值{},t1的数据类型{}\".format(t1,t1.type()))\n",
    "print(\"t2的值{},t2的数据类型{}\".format(t2,t2.type()))"
   ]
  },
  {
   "cell_type": "code",
   "execution_count": 9,
   "id": "dirty-ticket",
   "metadata": {},
   "outputs": [
    {
     "data": {
      "text/plain": [
       "tensor([[0., 0., 0.],\n",
       "        [0., 0., 0.]])"
      ]
     },
     "execution_count": 9,
     "metadata": {},
     "output_type": "execute_result"
    }
   ],
   "source": [
    "# eg:\n",
    "\n",
    "# 生成一个单位矩阵\n",
    "torch.eye(2,2)\n",
    "\n",
    "# 自动生成全是0的矩阵\n",
    "torch.zeros(2,3)\n",
    "\n",
    "# 根据规则生成数据\n",
    "torch.linspace(1,10,4)\n",
    "\n",
    "# 生成满足均匀分布随机数\n",
    "torch.rand(2,3)\n",
    "\n",
    "# 生成满足标准分布随机数\n",
    "torch.randn(2,3)\n",
    "\n",
    "# 返回所给数据形状相同，值全为0的张量\n",
    "torch.zeros_like(torch.rand(2,3))"
   ]
  },
  {
   "cell_type": "markdown",
   "id": "manual-algeria",
   "metadata": {},
   "source": [
    "## 2.4.3 修改Tensor形状"
   ]
  },
  {
   "cell_type": "code",
   "execution_count": null,
   "id": "respiratory-antarctica",
   "metadata": {},
   "outputs": [],
   "source": []
  }
 ],
 "metadata": {
  "kernelspec": {
   "display_name": "Python 3",
   "language": "python",
   "name": "python3"
  },
  "language_info": {
   "codemirror_mode": {
    "name": "ipython",
    "version": 3
   },
   "file_extension": ".py",
   "mimetype": "text/x-python",
   "name": "python",
   "nbconvert_exporter": "python",
   "pygments_lexer": "ipython3",
   "version": "3.6.12"
  }
 },
 "nbformat": 4,
 "nbformat_minor": 5
}
