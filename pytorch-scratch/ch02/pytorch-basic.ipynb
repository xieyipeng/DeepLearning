{
 "cells": [
  {
   "cell_type": "markdown",
   "id": "seventh-journalism",
   "metadata": {},
   "source": [
    "# 2.1 为何选择PyTorch？\n",
    "\n",
    "PyTorch由4个主要的包组成：\n",
    "\n",
    "\n",
    "* torch：类似于Numpy的通用数组库，可将张量类型转换为torch.cuda.TensorFloat，并在GPU上进行计算。\n",
    "\n",
    "* torch.autograd：用于构建计算图形并自动获取梯度的包。\n",
    "\n",
    "* torch.nn：具有共享层和损失函数的神经网络库。\n",
    "\n",
    "* torch.optim：具有通用优化算法（如SGD、Adam等）的优化包\n",
    "\n",
    "# 2.2 安装"
   ]
  },
  {
   "cell_type": "code",
   "execution_count": 1,
   "id": "therapeutic-doubt",
   "metadata": {},
   "outputs": [
    {
     "data": {
      "text/plain": [
       "'1.7.1'"
      ]
     },
     "execution_count": 1,
     "metadata": {},
     "output_type": "execute_result"
    }
   ],
   "source": [
    "# 验证torch安装是否成功\n",
    "\n",
    "import torch\n",
    "torch.__version__"
   ]
  },
  {
   "cell_type": "code",
   "execution_count": 4,
   "id": "lyric-anchor",
   "metadata": {},
   "outputs": [
    {
     "name": "stdout",
     "output_type": "stream",
     "text": [
      "Support CUDA ?:  True\n",
      "tensor([10.], device='cuda:0')\n",
      "tensor([[ 2.3097,  0.7396,  0.4830],\n",
      "        [ 0.6227, -0.9433,  0.2236]], device='cuda:0')\n",
      "tensor([[12.3097, 10.7396, 10.4830],\n",
      "        [10.6227,  9.0567, 10.2236]], device='cuda:0')\n",
      "Support cudnn ?:  True\n"
     ]
    }
   ],
   "source": [
    "# 测试是否在使用GPU\n",
    "# 测试 CUDA\n",
    "\n",
    "print(\"Support CUDA ?: \", torch.cuda.is_available())\n",
    "x = torch.tensor([10.0])\n",
    "x = x.cuda()\n",
    "print(x)\n",
    "\n",
    "y = torch.randn(2, 3)\n",
    "y = y.cuda()\n",
    "print(y)\n",
    "\n",
    "z = x + y\n",
    "print(z)\n",
    "\n",
    "# 测试 CUDNN\n",
    "from torch.backends import cudnn\n",
    "\n",
    "print(\"Support cudnn ?: \",cudnn.is_acceptable(x))"
   ]
  },
  {
   "cell_type": "markdown",
   "id": "developed-navigator",
   "metadata": {},
   "source": [
    "# 2.3 Jupyter Notebook环境配置\n",
    "\n",
    "# 2.4 Numpy与Tensor\n",
    "\n",
    "* 最大的区别就是Numpy会把ndarray放在CPU中进行加速运算，而由Torch产生的Tensor会放在GPU中进行加速运算（假设当前环境有GPU）\n",
    "\n",
    "## 2.4.1 Tensor概述"
   ]
  },
  {
   "cell_type": "code",
   "execution_count": 6,
   "id": "spanish-calvin",
   "metadata": {},
   "outputs": [
    {
     "name": "stdout",
     "output_type": "stream",
     "text": [
      "tensor([4, 6])\n",
      "tensor([1, 2])\n",
      "tensor([4, 6])\n"
     ]
    }
   ],
   "source": [
    "# 不修改自身 eg:\n",
    "\n",
    "x = torch.tensor([1,2])\n",
    "y = torch.tensor([3,4])\n",
    "z = x.add(y)  # 不带下滑符，不修改数据本身\n",
    "print(z)\n",
    "print(x)\n",
    "x.add_(y)  # 带下滑符，修改数据本身\n",
    "print(x)"
   ]
  },
  {
   "cell_type": "markdown",
   "id": "temporal-detail",
   "metadata": {},
   "source": [
    "## 2.4.2 创建Tensor"
   ]
  },
  {
   "cell_type": "code",
   "execution_count": 7,
   "id": "peripheral-andorra",
   "metadata": {},
   "outputs": [
    {
     "name": "stdout",
     "output_type": "stream",
     "text": [
      "torch.Size([2, 3])\n",
      "torch.Size([2, 3])\n",
      "tensor([[-5.2810e-24,  4.5629e-41,  9.0200e-28],\n",
      "        [ 3.0932e-41,  4.4842e-44,  0.0000e+00]])\n"
     ]
    }
   ],
   "source": [
    "# eg:\n",
    "\n",
    "# 根据list数据生成Tensor\n",
    "torch.Tensor([1,2,3,4,5,6])\n",
    "\n",
    "# 根据指定形状生成Tensor\n",
    "torch.Tensor(2,3)\n",
    "\n",
    "# 根据给定的Tensor的形状\n",
    "t = torch.Tensor([[1,2,3],[4,5,6]])\n",
    "\n",
    "#查看Tensor的形状\n",
    "print(t.size())\n",
    "\n",
    "#shape与size()等价方式\n",
    "print(t.shape)\n",
    "\n",
    "#根据已有形状创建Tensor\n",
    "print(torch.Tensor(t.size()))"
   ]
  },
  {
   "cell_type": "code",
   "execution_count": 8,
   "id": "funky-seller",
   "metadata": {},
   "outputs": [
    {
     "name": "stdout",
     "output_type": "stream",
     "text": [
      "t1的值tensor([-5.2810e-24]),t1的数据类型torch.FloatTensor\n",
      "t2的值1,t2的数据类型torch.LongTensor\n"
     ]
    }
   ],
   "source": [
    "# 注意torch.Tensor与torch.tensor的几点区别：\n",
    "\n",
    "t1 = torch.Tensor(1)\n",
    "t2 = torch.tensor(1)\n",
    "print(\"t1的值{},t1的数据类型{}\".format(t1,t1.type()))\n",
    "print(\"t2的值{},t2的数据类型{}\".format(t2,t2.type()))"
   ]
  },
  {
   "cell_type": "code",
   "execution_count": 9,
   "id": "logical-malpractice",
   "metadata": {},
   "outputs": [
    {
     "data": {
      "text/plain": [
       "tensor([[0., 0., 0.],\n",
       "        [0., 0., 0.]])"
      ]
     },
     "execution_count": 9,
     "metadata": {},
     "output_type": "execute_result"
    }
   ],
   "source": [
    "# eg:\n",
    "\n",
    "# 生成一个单位矩阵\n",
    "torch.eye(2,2)\n",
    "\n",
    "# 自动生成全是0的矩阵\n",
    "torch.zeros(2,3)\n",
    "\n",
    "# 根据规则生成数据\n",
    "torch.linspace(1,10,4)\n",
    "\n",
    "# 生成满足均匀分布随机数\n",
    "torch.rand(2,3)\n",
    "\n",
    "# 生成满足标准分布随机数\n",
    "torch.randn(2,3)\n",
    "\n",
    "# 返回所给数据形状相同，值全为0的张量\n",
    "torch.zeros_like(torch.rand(2,3))"
   ]
  },
  {
   "cell_type": "markdown",
   "id": "aerial-sunglasses",
   "metadata": {},
   "source": [
    "## 2.4.3 修改Tensor形状"
   ]
  },
  {
   "cell_type": "code",
   "execution_count": 1,
   "id": "promotional-siemens",
   "metadata": {},
   "outputs": [
    {
     "name": "stdout",
     "output_type": "stream",
     "text": [
      "tensor([[ 1.5971, -0.3620, -0.0353],\n",
      "        [-1.8480,  1.4629,  0.2418]])\n",
      "torch.Size([2, 3])\n",
      "2\n",
      "tensor([[ 1.5971, -0.3620],\n",
      "        [-0.0353, -1.8480],\n",
      "        [ 1.4629,  0.2418]])\n",
      "tensor([ 1.5971, -0.3620, -0.0353, -1.8480,  1.4629,  0.2418])\n",
      "y.shape:  torch.Size([6])\n",
      "tensor([[ 1.5971, -0.3620, -0.0353, -1.8480,  1.4629,  0.2418]])\n",
      "torch.Size([1, 6])\n",
      "6\n"
     ]
    }
   ],
   "source": [
    "import torch\n",
    "\n",
    "# 生成一个形状为2x3的矩阵\n",
    "x = torch.randn(2, 3)\n",
    "\n",
    "# 查看矩阵的形状\n",
    "print(x)\n",
    "print(x.size())\n",
    "print(x.dim())\n",
    "\n",
    "# 把x变为3x2的矩阵\n",
    "print(x.view(3,2))\n",
    "\n",
    "# 把x展平为1维向量\n",
    "y=x.view(-1)\n",
    "print(y)\n",
    "print(\"y.shape: \", y.shape)\n",
    "\n",
    "# 添加一个维度\n",
    "z=torch.unsqueeze(y,0)\n",
    "\n",
    "# 查看z的形状\n",
    "print(z)\n",
    "print(z.size())\n",
    "# 计算Z的元素个数\n",
    "print(z.numel())"
   ]
  },
  {
   "cell_type": "markdown",
   "id": "oriented-desire",
   "metadata": {},
   "source": [
    "## 2.4.4 索引操作"
   ]
  },
  {
   "cell_type": "code",
   "execution_count": 21,
   "id": "entire-johnston",
   "metadata": {},
   "outputs": [
    {
     "name": "stdout",
     "output_type": "stream",
     "text": [
      "tensor([[ 0.3607, -0.2859, -0.3938],\n",
      "        [ 0.2429, -1.3833, -2.3134]])\n",
      "tensor([ 0.3607, -0.2859, -0.3938])\n",
      "tensor([-0.3938, -2.3134])\n",
      "tensor([0.3607, 0.2429])\n",
      "tensor([[0, 0],\n",
      "        [1, 0]])\n",
      "tensor([[ 0.2429, -0.2859, -0.3938]])\n",
      "tensor([[-0.2859, -0.2859, -0.2859],\n",
      "        [-1.3833, -1.3833, -1.3833]])\n"
     ]
    }
   ],
   "source": [
    "torch.manual_seed(100)\n",
    "\n",
    "x = torch.randn(2, 3)\n",
    "print(x)\n",
    "print(x[0,:])\n",
    "print(x[:,-1])\n",
    "\n",
    "mask = x>0\n",
    "print(torch.masked_select(x, mask)) # 获取值\n",
    "print(torch.nonzero(mask)) # 下标\n",
    "\n",
    "index = torch.LongTensor([[1,0,0]])\n",
    "\n",
    "print(torch.gather(x,0,index)) # 在指定维度上选择数据 ?\n",
    "index = torch.LongTensor([[1,1,1],[1,1,1]])\n",
    "print(torch.gather(x,1,index))\n"
   ]
  },
  {
   "cell_type": "markdown",
   "id": "united-trash",
   "metadata": {},
   "source": [
    "## 2.4.5 广播机制"
   ]
  },
  {
   "cell_type": "code",
   "execution_count": 25,
   "id": "instant-parish",
   "metadata": {},
   "outputs": [
    {
     "name": "stdout",
     "output_type": "stream",
     "text": [
      "[[ 0]\n",
      " [10]\n",
      " [20]\n",
      " [30]]\n",
      "[0 1 2]\n",
      "结果：tensor([[ 0,  1,  2],\n",
      "        [10, 11, 12],\n",
      "        [20, 21, 22],\n",
      "        [30, 31, 32]])\n",
      "torch.Size([4, 1])\n",
      "torch.Size([3])\n",
      "torch.Size([1, 3])\n",
      "结果：tensor([[ 0,  1,  2],\n",
      "        [10, 11, 12],\n",
      "        [20, 21, 22],\n",
      "        [30, 31, 32]])\n"
     ]
    }
   ],
   "source": [
    "import numpy as np\n",
    "\n",
    "A = np.arange(0,40,10).reshape(4,1)\n",
    "print(A)\n",
    "\n",
    "B = np.arange(0,3)\n",
    "print(B)\n",
    "\n",
    "A1 = torch.from_numpy(A)  # 把数组转换成张量，且二者共享内存\n",
    "B1 = torch.from_numpy(B)\n",
    "\n",
    "print(f\"结果：{A1 + B1}\")\n",
    "\n",
    "print(A1.shape)\n",
    "print(B1.shape)\n",
    "\n",
    "B2 = B1.unsqueeze(0)\n",
    "print(B2.shape)\n",
    "\n",
    "A2 = A1.expand(4,3)\n",
    "B3 = B2.expand(4,3)\n",
    "\n",
    "print(f\"结果：{A2 + B3}\")"
   ]
  },
  {
   "cell_type": "markdown",
   "id": "solar-daughter",
   "metadata": {},
   "source": [
    "## 2.4.6 逐元素操作"
   ]
  },
  {
   "cell_type": "code",
   "execution_count": 26,
   "id": "favorite-animation",
   "metadata": {},
   "outputs": [
    {
     "name": "stdout",
     "output_type": "stream",
     "text": [
      "tensor([[-0.3055, -0.8318,  1.7063],\n",
      "        [-0.2760, -0.7448,  1.6001],\n",
      "        [-0.3374, -0.9256,  1.8209]])\n",
      "tensor([[0.4214, 0.2961, 0.8517]])\n",
      "tensor([[0., 0., 1.]])\n",
      "tensor([[1.6828, 1.1340, 3.7482]])\n"
     ]
    },
    {
     "name": "stderr",
     "output_type": "stream",
     "text": [
      "/home/xieyipeng/anaconda3/envs/torch/lib/python3.6/site-packages/ipykernel_launcher.py:7: UserWarning: This overload of addcdiv is deprecated:\n",
      "\taddcdiv(Tensor input, Number value, Tensor tensor1, Tensor tensor2, *, Tensor out)\n",
      "Consider using one of the following signatures instead:\n",
      "\taddcdiv(Tensor input, Tensor tensor1, Tensor tensor2, *, Number value, Tensor out) (Triggered internally at  /opt/conda/conda-bld/pytorch_1607370193460/work/torch/csrc/utils/python_arg_parser.cpp:882.)\n",
      "  import sys\n"
     ]
    }
   ],
   "source": [
    "# eg\n",
    "\n",
    "t = torch.randn(1,3)\n",
    "t1 = torch.randn(3,1)\n",
    "t2 = torch.randn(1,3)\n",
    "\n",
    "print(torch.addcdiv(t,0.1,t1,t2))\n",
    "print(torch.sigmoid(t))\n",
    "print(torch.clamp(t,0,1))\n",
    "print(t.add_(2))"
   ]
  },
  {
   "cell_type": "code",
   "execution_count": 29,
   "id": "hearing-retention",
   "metadata": {},
   "outputs": [
    {
     "name": "stdout",
     "output_type": "stream",
     "text": [
      "tensor([ 0.,  2.,  4.,  6.,  8., 10.])\n",
      "tensor([[ 0.,  2.,  4.],\n",
      "        [ 6.,  8., 10.]])\n",
      "tensor([ 6., 10., 14.])\n",
      "tensor([[ 6., 10., 14.]])\n"
     ]
    }
   ],
   "source": [
    "# 归并操作\n",
    "\n",
    "a=torch.linspace(0,10,6)\n",
    "print(a)\n",
    "\n",
    "a=a.view((2,3))\n",
    "print(a)\n",
    "\n",
    "b=a.sum(dim=0)\n",
    "print(b)\n",
    "\n",
    "b=a.sum(dim=0,keepdim=True) #b的形状为[1,3]\n",
    "print(b)"
   ]
  },
  {
   "cell_type": "markdown",
   "id": "hearing-allocation",
   "metadata": {},
   "source": [
    "## 2.4.8 比较操作"
   ]
  },
  {
   "cell_type": "code",
   "execution_count": 34,
   "id": "inner-whale",
   "metadata": {},
   "outputs": [
    {
     "name": "stdout",
     "output_type": "stream",
     "text": [
      "tensor([[ 0.,  2.,  4.],\n",
      "        [ 6.,  8., 10.]])\n",
      "tensor(10.)\n",
      "torch.return_types.max(\n",
      "values=tensor([ 6.,  8., 10.]),\n",
      "indices=tensor([1, 1, 1]))\n"
     ]
    },
    {
     "data": {
      "text/plain": [
       "torch.return_types.topk(\n",
       "values=tensor([[ 6.,  8., 10.]]),\n",
       "indices=tensor([[1, 1, 1]]))"
      ]
     },
     "execution_count": 34,
     "metadata": {},
     "output_type": "execute_result"
    }
   ],
   "source": [
    "import torch\n",
    "x=torch.linspace(0,10,6).view(2,3)\n",
    "print(x)\n",
    "#求所有元素的最大值\n",
    "print(torch.max(x)) #结果为10\n",
    "#求y轴方向的最大值\n",
    "print(torch.max(x,dim=0)) #结果为[6,8,10]\n",
    "#求最大的2个元素\n",
    "torch.topk(x,1,dim=0) #结果为[6,8,10],对应索引为tensor([[1, 1, 1]"
   ]
  },
  {
   "cell_type": "markdown",
   "id": "recognized-handbook",
   "metadata": {},
   "source": [
    "## 2.4.9 矩阵操作"
   ]
  },
  {
   "cell_type": "code",
   "execution_count": 37,
   "id": "sunset-nickel",
   "metadata": {},
   "outputs": [
    {
     "name": "stdout",
     "output_type": "stream",
     "text": [
      "tensor(18)\n",
      "tensor([[14,  0,  8, 23],\n",
      "        [26,  0, 10, 40]])\n"
     ]
    },
    {
     "data": {
      "text/plain": [
       "tensor([[[22, 31, 38, 33],\n",
       "         [12, 16, 18, 28]],\n",
       "\n",
       "        [[18, 22, 27, 41],\n",
       "         [39, 30, 45, 75]]])"
      ]
     },
     "execution_count": 37,
     "metadata": {},
     "output_type": "execute_result"
    }
   ],
   "source": [
    "a=torch.tensor([2, 3])\n",
    "b=torch.tensor([3, 4])\n",
    "print(torch.dot(a,b)) # 内积，运行结果为18\n",
    "\n",
    "x=torch.randint(10,(2,3))\n",
    "y=torch.randint(6,(3,4))\n",
    "print(torch.mm(x,y))\n",
    "\n",
    "x=torch.randint(10,(2,2,3))\n",
    "y=torch.randint(6,(2,3,4))\n",
    "torch.bmm(x,y)"
   ]
  },
  {
   "cell_type": "markdown",
   "id": "usual-disability",
   "metadata": {},
   "source": [
    "# 2.5 Tensor与Autograd\n",
    "\n",
    "* torch.autograd包就是用来自动求导的\n",
    "\n",
    "## 2.5.1 自动求导要点\n",
    "\n",
    "## 2.5.2 计算图\n",
    "\n",
    "## 2.5.3 标量反向传播\n",
    "\n",
    "* z = y + b\n",
    "\n",
    "* y = wx"
   ]
  },
  {
   "cell_type": "code",
   "execution_count": 58,
   "id": "exact-shooting",
   "metadata": {},
   "outputs": [
    {
     "name": "stdout",
     "output_type": "stream",
     "text": [
      "x:tensor([2.]),w:tensor([0.0161], requires_grad=True),b:tensor([1.9956], requires_grad=True)\n",
      "z:tensor([2.0278], grad_fn=<AddBackward0>)\n",
      "x,w,b的require_grad属性分别为:False,True,True\n"
     ]
    }
   ],
   "source": [
    "import torch\n",
    "\n",
    "x = torch.Tensor([2])\n",
    "w = torch.randn(1,requires_grad=True)\n",
    "b = torch.randn(1,requires_grad=True)\n",
    "\n",
    "y = torch.mul(w, x)\n",
    "z = torch.add(y, b)\n",
    "\n",
    "print(f\"x:{x},w:{w},b:{b}\\nz:{z}\")\n",
    "\n",
    "\n",
    "print(\"x,w,b的require_grad属性分别为:{},{},{}\".format(x.requires_grad,w.requires_grad,b.requires_grad))"
   ]
  },
  {
   "cell_type": "code",
   "execution_count": 59,
   "id": "together-birthday",
   "metadata": {},
   "outputs": [
    {
     "name": "stdout",
     "output_type": "stream",
     "text": [
      "y,z的requires_grad属性分别为:True,True\n",
      "x,w,b,y,z的是否为叶子节点:True,True,True,False,False\n",
      "x,w,b的grad_fn属性:None,None,None\n",
      "y,z的是否为叶子节点:<MulBackward0 object at 0x7fc7d5a8c630>,<AddBackward0 object at 0x7fc7d5a8c978>\n"
     ]
    }
   ],
   "source": [
    "# 查看叶子节点、非叶子节点的其他属性。\n",
    "#查看非叶子节点的requres_grad属性,\n",
    "print(\"y,z的requires_grad属性分别为:{},{}\".format(y.requires_grad,z.requires_grad))\n",
    "#因与w,b有依赖关系,故y,z的requires_grad属性也是:True,True\n",
    "#查看各节点是否为叶子节点\n",
    "print(\"x,w,b,y,z的是否为叶子节点:{},{},{},{},{}\".format(x.is_leaf,w.is_leaf,b.is_leaf,y.is_leaf,z.is_leaf))\n",
    "#x,w,b,y,z的是否为叶子节点:True,True,True,False,False\n",
    "#查看叶子节点的grad_fn属性\n",
    "print(\"x,w,b的grad_fn属性:{},{},{}\".format(x.grad_fn,w.grad_fn,b.grad_fn))\n",
    "#因x,w,b为用户创建的,为通过其他张量计算得到,故x,w,b的grad_fn属性:None,None,None\n",
    "#查看非叶子节点的grad_fn属性\n",
    "                                                \n",
    "print(\"y,z的是否为叶子节点:{},{}\".format(y.grad_fn,z.grad_fn))\n",
    "#y,z的是否为叶子节点:<MulBackward0 object at 0x7f923e85dda0>,<AddBackward0 object at 0x7f923e85d9b0>\n"
   ]
  },
  {
   "cell_type": "code",
   "execution_count": 60,
   "id": "located-rochester",
   "metadata": {},
   "outputs": [
    {
     "name": "stdout",
     "output_type": "stream",
     "text": [
      "参数w,b,x的梯度分别为:tensor([2.]),tensor([1.]),None\n",
      "非叶子节点y,z的梯度分别为:None,None\n"
     ]
    },
    {
     "name": "stderr",
     "output_type": "stream",
     "text": [
      "/home/xieyipeng/anaconda3/envs/torch/lib/python3.6/site-packages/ipykernel_launcher.py:6: UserWarning: The .grad attribute of a Tensor that is not a leaf Tensor is being accessed. Its .grad attribute won't be populated during autograd.backward(). If you indeed want the gradient for a non-leaf Tensor, use .retain_grad() on the non-leaf Tensor. If you access the non-leaf Tensor by mistake, make sure you access the leaf Tensor instead. See github.com/pytorch/pytorch/pull/30531 for more informations.\n",
      "  \n"
     ]
    }
   ],
   "source": [
    "# 自动求导,实现梯度方向传播,即梯度的反向传播。\n",
    "\n",
    "z.backward()\n",
    "\n",
    "print(f\"参数w,b,x的梯度分别为:{w.grad},{b.grad},{x.grad}\")\n",
    "print(f\"非叶子节点y,z的梯度分别为:{y.grad},{y.grad}\")"
   ]
  },
  {
   "cell_type": "markdown",
   "id": "valuable-heavy",
   "metadata": {},
   "source": [
    "## 2.5.4 非标量反向传播"
   ]
  },
  {
   "cell_type": "code",
   "execution_count": 61,
   "id": "certified-israeli",
   "metadata": {},
   "outputs": [
    {
     "name": "stdout",
     "output_type": "stream",
     "text": [
      "tensor([[6., 9.]])\n"
     ]
    }
   ],
   "source": [
    "# 定义叶子节点及计算节点。\n",
    "\n",
    "x = torch.tensor([[2,3]],dtype=torch.float, requires_grad=True)\n",
    "\n",
    "# 初始化Jacobian矩阵\n",
    "J = torch.zeros(2,2)\n",
    "# 初始化目标张量\n",
    "y = torch.zeros(1,2)\n",
    "\n",
    "# y1=x1**2+3*x2, y2=x2**2+2*x1\n",
    "y[0,0] = x[0,0]**2+3*x[0,1]\n",
    "y[0,1] = x[0,1]**2+2*x[0,0]\n",
    "\n",
    "y.backward(torch.tensor([[1,1]]))\n",
    "print(x.grad)"
   ]
  },
  {
   "cell_type": "code",
   "execution_count": 62,
   "id": "maritime-effect",
   "metadata": {},
   "outputs": [
    {
     "name": "stdout",
     "output_type": "stream",
     "text": [
      "tensor([[4., 3.],\n",
      "        [2., 6.]])\n"
     ]
    }
   ],
   "source": [
    "# 定义叶子节点及计算节点。\n",
    "\n",
    "x = torch.tensor([[2,3]],dtype=torch.float, requires_grad=True)\n",
    "\n",
    "# 初始化Jacobian矩阵\n",
    "J = torch.zeros(2,2)\n",
    "# 初始化目标张量\n",
    "y = torch.zeros(1,2)\n",
    "\n",
    "# y1=x1**2+3*x2, y2=x2**2+2*x1\n",
    "y[0,0] = x[0,0]**2+3*x[0,1]\n",
    "y[0,1] = x[0,1]**2+2*x[0,0]\n",
    "\n",
    "#生成y1对x的梯度\n",
    "y.backward(torch.Tensor([[1, 0]]),retain_graph=True)\n",
    "J[0]=x.grad\n",
    "#梯度是累加的,故需要对x的梯度清零\n",
    "x.grad = torch.zeros_like(x.grad)\n",
    "#生成y2对x的梯度\n",
    "y.backward(torch.Tensor([[0, 1]]))\n",
    "J[1]=x.grad\n",
    "#显示jacobian矩阵的值\n",
    "print(J)"
   ]
  },
  {
   "cell_type": "markdown",
   "id": "white-snowboard",
   "metadata": {},
   "source": [
    "## 2.6 使用Numpy实现机器学习"
   ]
  },
  {
   "cell_type": "code",
   "execution_count": 1,
   "id": "tight-floating",
   "metadata": {},
   "outputs": [],
   "source": [
    "import numpy as np\n",
    "from matplotlib import pyplot as plt"
   ]
  },
  {
   "cell_type": "code",
   "execution_count": 9,
   "id": "focal-classic",
   "metadata": {},
   "outputs": [],
   "source": [
    "# 生成输入数据x及目标数据y\n",
    "\n",
    "np.random.seed(100)\n",
    "x = np.linspace(-1,1,100).reshape(100,1)\n",
    "y = 3*np.power(x,2)+2+0.3*np.random.rand(x.size).reshape(100,1)"
   ]
  },
  {
   "cell_type": "code",
   "execution_count": 10,
   "id": "obvious-identification",
   "metadata": {},
   "outputs": [
    {
     "data": {
      "image/png": "[encoded data removed]",
      "text/plain": [
       "<matplotlib.figure.Figure at 0x7f4ccd47a8d0>"
      ]
     },
     "metadata": {
      "needs_background": "light"
     },
     "output_type": "display_data"
    }
   ],
   "source": [
    "plt.scatter(x,y)\n",
    "plt.show()"
   ]
  },
  {
   "cell_type": "code",
   "execution_count": 11,
   "id": "flexible-matthew",
   "metadata": {},
   "outputs": [
    {
     "data": {
      "text/plain": [
       "(array([[0.77828922]]), array([[0.7795984]]))"
      ]
     },
     "execution_count": 11,
     "metadata": {},
     "output_type": "execute_result"
    }
   ],
   "source": [
    "# 随机初始化权重\n",
    "\n",
    "w1 = np.random.rand(1,1)\n",
    "b1 = np.random.rand(1,1)\n",
    "w1,b1"
   ]
  },
  {
   "cell_type": "code",
   "execution_count": 12,
   "id": "starting-chest",
   "metadata": {},
   "outputs": [
    {
     "name": "stdout",
     "output_type": "stream",
     "text": [
      "[[2.98497442]] [[2.14688182]]\n"
     ]
    },
    {
     "data": {
      "image/png": "[encoded data removed]",
      "text/plain": [
       "<matplotlib.figure.Figure at 0x7f4d14aeccc0>"
      ]
     },
     "metadata": {
      "needs_background": "light"
     },
     "output_type": "display_data"
    }
   ],
   "source": [
    "# 训练模型，假设批量大小为0\n",
    "\n",
    "lr = 0.001\n",
    "for i in range(800):\n",
    "    y_pred = np.power(x,2)*w1+b1\n",
    "    loss = (0.5*(y_pred-y)**2).sum()\n",
    "    \n",
    "    grad_w = np.sum((y_pred-y)*np.power(x,2))\n",
    "    grad_b = np.sum((y_pred-y))\n",
    "    \n",
    "    w1 -= lr*grad_w\n",
    "    b1 -= lr*grad_b\n",
    "    \n",
    "plt.plot(x,y_pred,'r-',label='predict')\n",
    "plt.scatter(x,y,color='blue',marker='o',label='true')\n",
    "plt.xlim(-1,1)\n",
    "plt.ylim(2,6)\n",
    "plt.legend()\n",
    "plt.show\n",
    "print(w1,b1)"
   ]
  },
  {
   "cell_type": "markdown",
   "id": "republican-lesson",
   "metadata": {},
   "source": [
    "# 2.7 使用Tensor及Antograd实现机器学习"
   ]
  },
  {
   "cell_type": "code",
   "execution_count": 13,
   "id": "exempt-voltage",
   "metadata": {},
   "outputs": [],
   "source": [
    "import torch as t\n",
    "from matplotlib import pyplot as plt"
   ]
  },
  {
   "cell_type": "code",
   "execution_count": 20,
   "id": "infectious-coral",
   "metadata": {},
   "outputs": [
    {
     "data": {
      "image/png": "[encoded data removed]",
      "text/plain": [
       "<matplotlib.figure.Figure at 0x7f4c5c81bc18>"
      ]
     },
     "metadata": {
      "needs_background": "light"
     },
     "output_type": "display_data"
    }
   ],
   "source": [
    "t.manual_seed(100)\n",
    "dtype = t.float\n",
    "\n",
    "x = t.unsqueeze(t.linspace(-1,1,100),dim=1)\n",
    "y = 3*x.pow(2)+2+0.3*t.rand(x.size())\n",
    "\n",
    "plt.scatter(x.numpy(),y.numpy())\n",
    "plt.show()"
   ]
  },
  {
   "cell_type": "code",
   "execution_count": 21,
   "id": "martial-cookbook",
   "metadata": {},
   "outputs": [],
   "source": [
    "# 初始化参数\n",
    "\n",
    "w = t.randn(1,1,dtype=dtype,requires_grad=True)\n",
    "b = t.zeros(1,1,dtype=dtype,requires_grad=True)"
   ]
  },
  {
   "cell_type": "code",
   "execution_count": 22,
   "id": "ranking-pollution",
   "metadata": {},
   "outputs": [
    {
     "data": {
      "image/png": "[encoded data removed]",
      "text/plain": [
       "<matplotlib.figure.Figure at 0x7f4c5c7cc8d0>"
      ]
     },
     "metadata": {
      "needs_background": "light"
     },
     "output_type": "display_data"
    },
    {
     "name": "stdout",
     "output_type": "stream",
     "text": [
      "tensor([[2.9480]], requires_grad=True) tensor([[2.1715]], requires_grad=True)\n"
     ]
    }
   ],
   "source": [
    "lr = 0.001\n",
    "\n",
    "for ii in range(800):\n",
    "    y_pred = x.pow(2).mm(w)+b\n",
    "    loss = (0.5*(y_pred-y)**2).sum()\n",
    "    \n",
    "    loss.backward()\n",
    "    \n",
    "    with t.no_grad():\n",
    "        w -= lr*w.grad\n",
    "        b -= lr*b.grad\n",
    "        \n",
    "        w.grad.zero_()\n",
    "        b.grad.zero_()\n",
    "\n",
    "plt.plot(x.numpy(), y_pred.detach().numpy(),'r-',label='predict')#predict\n",
    "plt.scatter(x.numpy(), y.numpy(),color='blue',marker='o',label='true') # true data\n",
    "plt.xlim(-1,1)\n",
    "plt.ylim(2,6)\n",
    "plt.legend()\n",
    "plt.show()\n",
    "print(w, b)"
   ]
  },
  {
   "cell_type": "code",
   "execution_count": null,
   "id": "heard-seating",
   "metadata": {},
   "outputs": [],
   "source": []
  }
 ],
 "metadata": {
  "kernelspec": {
   "display_name": "Python 3",
   "language": "python",
   "name": "python3"
  },
  "language_info": {
   "codemirror_mode": {
    "name": "ipython",
    "version": 3
   },
   "file_extension": ".py",
   "mimetype": "text/x-python",
   "name": "python",
   "nbconvert_exporter": "python",
   "pygments_lexer": "ipython3",
   "version": "3.6.2"
  }
 },
 "nbformat": 4,
 "nbformat_minor": 5
}
