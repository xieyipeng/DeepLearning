{
 "cells": [
  {
   "cell_type": "markdown",
   "id": "utility-reliance",
   "metadata": {},
   "source": [
    "# PyTorch的自动差分引擎：TORCH.AUTOGRAD\n",
    "\n",
    "## 背景\n",
    "\n",
    "神经网络（NN）是在某些输入数据上执行的嵌套函数的集合。这些函数由参数 （由权重和偏差组成）定义，这些参数在PyTorch中存储在张量中。\n",
    "\n",
    "训练NN分为两个步骤：\n",
    "\n",
    "前向传播：在前向传播中，NN对正确的输出做出最佳猜测。它通过其每个功能运行输入数据以进行猜测。\n",
    "\n",
    "向后传播：在向后传播中，NN根据其猜测中的错误调整其参数。它通过从输出向后遍历，收集有关函数参数（梯度）的误差导数并使用梯度下降优化参数来实现\n",
    "\n",
    "## 在PyTorch中的用法\n",
    "\n",
    "让我们看一个培训步骤。在此示例中，我们从加载了预训练的resnet18模型torchvision。我们创建一个随机数据张量以表示具有3个通道，高度和宽度为64的单个图像，并将其相应的label初始化为一些随机值。"
   ]
  },
  {
   "cell_type": "code",
   "execution_count": 3,
   "id": "weird-liberal",
   "metadata": {},
   "outputs": [],
   "source": [
    "import torch, torchvision\n",
    "model = torchvision.models.resnet18(pretrained=True) # 加载预训练的resnet18模型torchvision\n",
    "data = torch.rand(1, 3, 64, 64) # 创建一个随机数据张量，3*64*64\n",
    "labels = torch.rand(1, 1000) # 初始化标签"
   ]
  },
  {
   "cell_type": "markdown",
   "id": "foreign-uniform",
   "metadata": {},
   "source": [
    "* 前向传播"
   ]
  },
  {
   "cell_type": "code",
   "execution_count": 9,
   "id": "other-housing",
   "metadata": {},
   "outputs": [],
   "source": [
    "prediction = model(data) # forward pass"
   ]
  },
  {
   "cell_type": "markdown",
   "id": "intermediate-consensus",
   "metadata": {},
   "source": [
    "* 模型的预测和相应的标签来计算误差（loss）"
   ]
  },
  {
   "cell_type": "code",
   "execution_count": 10,
   "id": "nervous-differential",
   "metadata": {},
   "outputs": [],
   "source": [
    "loss = (prediction - labels).sum()\n",
    "loss.backward() # backward pass"
   ]
  },
  {
   "cell_type": "markdown",
   "id": "timely-spirit",
   "metadata": {},
   "source": [
    "* 加载一个优化器，注册模型的所有参数"
   ]
  },
  {
   "cell_type": "code",
   "execution_count": 11,
   "id": "specific-artwork",
   "metadata": {},
   "outputs": [],
   "source": [
    "optim = torch.optim.SGD(model.parameters(), lr=1e-2, momentum=0.9)"
   ]
  },
  {
   "cell_type": "markdown",
   "id": "minor-signal",
   "metadata": {},
   "source": [
    "* 运行step()启动梯度下降"
   ]
  },
  {
   "cell_type": "code",
   "execution_count": 12,
   "id": "suspended-leadership",
   "metadata": {},
   "outputs": [],
   "source": [
    "optim.step() #gradient descent"
   ]
  },
  {
   "cell_type": "markdown",
   "id": "faced-penguin",
   "metadata": {},
   "source": [
    "## Autograd的差异化\n",
    "\n",
    "* autograd如何收集渐变(requires_grad=True。这表明autograd应该跟踪对它们的所有操作)"
   ]
  },
  {
   "cell_type": "code",
   "execution_count": 13,
   "id": "cross-seating",
   "metadata": {},
   "outputs": [],
   "source": [
    "import torch\n",
    "\n",
    "a = torch.tensor([2., 3.], requires_grad=True)\n",
    "b = torch.tensor([6., 4.], requires_grad=True)"
   ]
  },
  {
   "cell_type": "code",
   "execution_count": null,
   "id": "environmental-modern",
   "metadata": {},
   "outputs": [],
   "source": []
  }
 ],
 "metadata": {
  "kernelspec": {
   "display_name": "Python 3",
   "language": "python",
   "name": "python3"
  },
  "language_info": {
   "codemirror_mode": {
    "name": "ipython",
    "version": 3
   },
   "file_extension": ".py",
   "mimetype": "text/x-python",
   "name": "python",
   "nbconvert_exporter": "python",
   "pygments_lexer": "ipython3",
   "version": "3.6.2"
  }
 },
 "nbformat": 4,
 "nbformat_minor": 5
}
